{
 "cells": [
  {
   "cell_type": "raw",
   "id": "1c42eb0f",
   "metadata": {},
   "source": [
    "#quiz game\n",
    "1 random question\n",
    "2 correct- instant result/final result\n",
    "3 atleast 5 questions for display\n",
    "4 questions bank should have atleast 10 questions\n",
    "correct options"
   ]
  },
  {
   "cell_type": "code",
   "execution_count": null,
   "id": "fd6f181f-2daf-4ead-ab6e-fd17082fb34b",
   "metadata": {},
   "outputs": [],
   "source": [
    "with open('questions.txt','r') as file:\n",
    "    questions=file.read()"
   ]
  },
  {
   "cell_type": "code",
   "execution_count": null,
   "id": "32cecd9d",
   "metadata": {},
   "outputs": [],
   "source": [
    "#questions=[q.strip() for q in questions]"
   ]
  },
  {
   "cell_type": "code",
   "execution_count": null,
   "id": "cbdbd88c",
   "metadata": {},
   "outputs": [],
   "source": [
    "print(questions)"
   ]
  },
  {
   "cell_type": "code",
   "execution_count": null,
   "id": "b60b5c05",
   "metadata": {},
   "outputs": [],
   "source": [
    "import random "
   ]
  },
  {
   "cell_type": "code",
   "execution_count": null,
   "id": "91fe73aa",
   "metadata": {},
   "outputs": [],
   "source": [
    "random_question=random.choice(questions)"
   ]
  },
  {
   "cell_type": "code",
   "execution_count": null,
   "id": "7847bfeb",
   "metadata": {},
   "outputs": [],
   "source": [
    "random_question"
   ]
  },
  {
   "cell_type": "code",
   "execution_count": null,
   "id": "52477804",
   "metadata": {},
   "outputs": [],
   "source": [
    "random.shuffle(questions)\n",
    "for question in questions:\n",
    "    print(question)\n"
   ]
  },
  {
   "cell_type": "code",
   "execution_count": 2,
   "id": "f3c4a8c6",
   "metadata": {},
   "outputs": [
    {
     "name": "stdout",
     "output_type": "stream",
     "text": [
      "\n",
      "Question: Which module in Python is used for working with regular expressions?\n",
      "1. math\n",
      "2. re\n",
      "3. regex\n",
      "4. string\n",
      "Enter the answer (1/2/3/4): 2\n",
      "Incorrect! The correct answer is: re\n",
      "\n",
      "Question: How do you add an element to a list in Python?\n",
      "1. append()\n",
      "2. add()\n",
      "3. push()\n",
      "4. insert()\n",
      "Enter the answer (1/2/3/4): 2\n",
      "Incorrect! The correct answer is: append()\n",
      "\n",
      "Question: Which keyword is used to create a class in Python?\n",
      "1. class\n",
      "2. def\n",
      "3. object\n",
      "4. create\n",
      "Enter the answer (1/2/3/4): 34\n",
      "Incorrect! The correct answer is: class\n",
      "\n",
      "Question: What is the result of 5 % 2 in Python?\n",
      "1. 2\n",
      "2. 1\n",
      "3. 0\n",
      "4. Error\n",
      "Enter the answer (1/2/3/4): 4\n",
      "Incorrect! The correct answer is: 1\n",
      "\n",
      "Question: Which operator is used for exponentiation in Python?\n",
      "1. ^\n",
      "2. **\n",
      "3. *\n",
      "4. %\n",
      "Enter the answer (1/2/3/4): 4\n",
      "Incorrect! The correct answer is: **\n",
      "\n",
      "Your final score is: 0/5\n"
     ]
    }
   ],
   "source": [
    "import random\n",
    "\n",
    "score = 0\n",
    "\n",
    "with open('questions.txt', 'r') as file:\n",
    "    lines = file.readlines()\n",
    "\n",
    "questions_data = []\n",
    "for line in lines:\n",
    "    question, options, answer = line.split('|')\n",
    "    options_list = options.split(',') \n",
    "    questions_data.append({\n",
    "        'question': question,\n",
    "        'options': options_list,\n",
    "        'answer': int(answer.strip())  \n",
    "    })\n",
    "\n",
    "\n",
    "asked_questions = []  \n",
    "for _ in range(1,6):\n",
    "    random_question = random.choice(questions_data)\n",
    "    while random_question in asked_questions:\n",
    "        random_question = random.choice(questions_data)\n",
    "\n",
    "    asked_questions.append(random_question)\n",
    "\n",
    "    print(\"\\nQuestion:\", random_question['question'])\n",
    "    for i, option in enumerate(random_question['options'], 1): \n",
    "        print(f\"{i}. {option}\")\n",
    "\n",
    "    try:\n",
    "        user_answer = int(input(\"Enter the answer (1/2/3/4): \"))\n",
    "    except ValueError:\n",
    "        print(\"Invalid input! Please enter a number between 1 and 4.\")\n",
    "        continue\n",
    "\n",
    "\n",
    "    if user_answer == random_question['answer']:\n",
    "        print(\"Correct!\")\n",
    "        score += 1\n",
    "    else:\n",
    "        correct_option = random_question['options'][random_question['answer']]\n",
    "        print(f\"Incorrect! The correct answer is: {correct_option}\")\n",
    "\n",
    "print(f\"\\nYour final score is: {score}/5\")\n"
   ]
  },
  {
   "cell_type": "code",
   "execution_count": null,
   "id": "17224675",
   "metadata": {},
   "outputs": [],
   "source": []
  }
 ],
 "metadata": {
  "kernelspec": {
   "display_name": "Python 3 (ipykernel)",
   "language": "python",
   "name": "python3"
  },
  "language_info": {
   "codemirror_mode": {
    "name": "ipython",
    "version": 3
   },
   "file_extension": ".py",
   "mimetype": "text/x-python",
   "name": "python",
   "nbconvert_exporter": "python",
   "pygments_lexer": "ipython3",
   "version": "3.11.9"
  }
 },
 "nbformat": 4,
 "nbformat_minor": 5
}
